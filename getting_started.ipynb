{
 "cells": [
  {
   "cell_type": "markdown",
   "metadata": {},
   "source": [
    "# Getting started with the BRIDGE dataset\n",
    "\n",
    "This notebook walks through some examples of how to use the tabular MDPs in the BRIDGE dataset.\n",
    "\n",
    "If you are running this notebook in Google Colab, it is recommended to use a GPU. You can enable GPU acceleration by going to Runtime > Change runtime type and selecting GPU from the dropdown."
   ]
  },
  {
   "cell_type": "markdown",
   "metadata": {},
   "source": [
    "First, install the `effective-horizon` package, either from the local repository or from PyPI:"
   ]
  },
  {
   "cell_type": "code",
   "execution_count": 1,
   "metadata": {
    "nbreg": {
     "diff_ignore": [
      "/outputs/0/text"
     ]
    }
   },
   "outputs": [
    {
     "name": "stdout",
     "output_type": "stream",
     "text": [
      "Obtaining file:///home/cassidy/sh/Programs/Python/effective-horizon\r\n",
      "  Installing build dependencies ... \u001b[?25l-\b \b\\\b \b|\b \bdone\r\n",
      "\u001b[?25h  Checking if build backend supports build_editable ... \u001b[?25ldone\r\n",
      "\u001b[?25h  Getting requirements to build editable ... \u001b[?25l-\b \bdone\r\n",
      "\u001b[?25h  Installing backend dependencies ... \u001b[?25l-\b \b\\\b \bdone\r\n",
      "\u001b[?25h  Preparing editable metadata (pyproject.toml) ... \u001b[?25l-\b \bdone\r\n",
      "\u001b[?25hRequirement already satisfied: sacred>=0.8.2 in /home/cassidy/anaconda3/envs/effective_horizon/lib/python3.9/site-packages (from effective-horizon==0.1.0) (0.8.4)\r\n",
      "Requirement already satisfied: torch>=1.10.0 in /home/cassidy/anaconda3/envs/effective_horizon/lib/python3.9/site-packages (from effective-horizon==0.1.0) (2.1.0)\r\n",
      "Requirement already satisfied: minigrid<2.3,>=2.2 in /home/cassidy/anaconda3/envs/effective_horizon/lib/python3.9/site-packages (from effective-horizon==0.1.0) (2.2.1)\r\n",
      "Requirement already satisfied: gymnasium[atari] in /home/cassidy/anaconda3/envs/effective_horizon/lib/python3.9/site-packages (from effective-horizon==0.1.0) (0.29.1)\r\n",
      "Requirement already satisfied: numpy>=1.20.3 in /home/cassidy/anaconda3/envs/effective_horizon/lib/python3.9/site-packages (from effective-horizon==0.1.0) (1.26.0)\r\n",
      "Requirement already satisfied: scipy>=1.8 in /home/cassidy/anaconda3/envs/effective_horizon/lib/python3.9/site-packages (from effective-horizon==0.1.0) (1.10.1)\r\n",
      "Requirement already satisfied: autorom>=0.4.2 in /home/cassidy/anaconda3/envs/effective_horizon/lib/python3.9/site-packages (from autorom[accept-rom-license]>=0.4.2->effective-horizon==0.1.0) (0.6.1)\r\n",
      "Requirement already satisfied: GPUtil>=1.4.0 in /home/cassidy/anaconda3/envs/effective_horizon/lib/python3.9/site-packages (from effective-horizon==0.1.0) (1.4.0)\r\n",
      "Requirement already satisfied: procgen>=0.10.7 in /home/cassidy/anaconda3/envs/effective_horizon/lib/python3.9/site-packages (from effective-horizon==0.1.0) (0.10.7)\r\n",
      "Requirement already satisfied: torchvision>=0.11.1 in /home/cassidy/anaconda3/envs/effective_horizon/lib/python3.9/site-packages (from effective-horizon==0.1.0) (0.16.0)\r\n",
      "Requirement already satisfied: tensorflow-probability in /home/cassidy/anaconda3/envs/effective_horizon/lib/python3.9/site-packages (from effective-horizon==0.1.0) (0.22.0)\r\n",
      "Requirement already satisfied: tqdm in /home/cassidy/anaconda3/envs/effective_horizon/lib/python3.9/site-packages (from effective-horizon==0.1.0) (4.66.1)\r\n",
      "Requirement already satisfied: opencv-python in /home/cassidy/anaconda3/envs/effective_horizon/lib/python3.9/site-packages (from effective-horizon==0.1.0) (4.9.0.80)\r\n",
      "Requirement already satisfied: tensorboard in /home/cassidy/anaconda3/envs/effective_horizon/lib/python3.9/site-packages (from effective-horizon==0.1.0) (2.16.2)\r\n",
      "Requirement already satisfied: click in /home/cassidy/anaconda3/envs/effective_horizon/lib/python3.9/site-packages (from autorom>=0.4.2->autorom[accept-rom-license]>=0.4.2->effective-horizon==0.1.0) (8.1.7)\r\n",
      "Requirement already satisfied: requests in /home/cassidy/anaconda3/envs/effective_horizon/lib/python3.9/site-packages (from autorom>=0.4.2->autorom[accept-rom-license]>=0.4.2->effective-horizon==0.1.0) (2.31.0)\r\n",
      "Requirement already satisfied: AutoROM.accept-rom-license in /home/cassidy/anaconda3/envs/effective_horizon/lib/python3.9/site-packages (from autorom[accept-rom-license]>=0.4.2->effective-horizon==0.1.0) (0.6.1)\r\n",
      "Requirement already satisfied: pygame>=2.2.0 in /home/cassidy/anaconda3/envs/effective_horizon/lib/python3.9/site-packages (from minigrid<2.3,>=2.2->effective-horizon==0.1.0) (2.5.2)\r\n",
      "Requirement already satisfied: gym<1.0.0,>=0.15.0 in /home/cassidy/anaconda3/envs/effective_horizon/lib/python3.9/site-packages (from procgen>=0.10.7->effective-horizon==0.1.0) (0.26.2)\r\n",
      "Requirement already satisfied: gym3<1.0.0,>=0.3.3 in /home/cassidy/anaconda3/envs/effective_horizon/lib/python3.9/site-packages (from procgen>=0.10.7->effective-horizon==0.1.0) (0.3.3)\r\n",
      "Requirement already satisfied: filelock<4.0.0,>=3.0.0 in /home/cassidy/anaconda3/envs/effective_horizon/lib/python3.9/site-packages (from procgen>=0.10.7->effective-horizon==0.1.0) (3.12.4)\r\n",
      "Requirement already satisfied: docopt<1.0,>=0.3 in /home/cassidy/anaconda3/envs/effective_horizon/lib/python3.9/site-packages (from sacred>=0.8.2->effective-horizon==0.1.0) (0.6.2)\r\n",
      "Requirement already satisfied: jsonpickle>=1.2 in /home/cassidy/anaconda3/envs/effective_horizon/lib/python3.9/site-packages (from sacred>=0.8.2->effective-horizon==0.1.0) (3.0.2)\r\n",
      "Requirement already satisfied: munch<3.0,>=2.5 in /home/cassidy/anaconda3/envs/effective_horizon/lib/python3.9/site-packages (from sacred>=0.8.2->effective-horizon==0.1.0) (2.5.0)\r\n",
      "Requirement already satisfied: wrapt<2.0,>=1.0 in /home/cassidy/anaconda3/envs/effective_horizon/lib/python3.9/site-packages (from sacred>=0.8.2->effective-horizon==0.1.0) (1.15.0)\r\n",
      "Requirement already satisfied: py-cpuinfo>=4.0 in /home/cassidy/anaconda3/envs/effective_horizon/lib/python3.9/site-packages (from sacred>=0.8.2->effective-horizon==0.1.0) (9.0.0)\r\n",
      "Requirement already satisfied: colorama>=0.4 in /home/cassidy/anaconda3/envs/effective_horizon/lib/python3.9/site-packages (from sacred>=0.8.2->effective-horizon==0.1.0) (0.4.6)\r\n",
      "Requirement already satisfied: packaging>=18.0 in /home/cassidy/anaconda3/envs/effective_horizon/lib/python3.9/site-packages (from sacred>=0.8.2->effective-horizon==0.1.0) (23.2)\r\n",
      "Requirement already satisfied: GitPython in /home/cassidy/anaconda3/envs/effective_horizon/lib/python3.9/site-packages (from sacred>=0.8.2->effective-horizon==0.1.0) (3.1.37)\r\n",
      "Requirement already satisfied: typing-extensions in /home/cassidy/anaconda3/envs/effective_horizon/lib/python3.9/site-packages (from torch>=1.10.0->effective-horizon==0.1.0) (4.5.0)\r\n",
      "Requirement already satisfied: sympy in /home/cassidy/anaconda3/envs/effective_horizon/lib/python3.9/site-packages (from torch>=1.10.0->effective-horizon==0.1.0) (1.12)\r\n",
      "Requirement already satisfied: networkx in /home/cassidy/anaconda3/envs/effective_horizon/lib/python3.9/site-packages (from torch>=1.10.0->effective-horizon==0.1.0) (3.1)\r\n",
      "Requirement already satisfied: jinja2 in /home/cassidy/anaconda3/envs/effective_horizon/lib/python3.9/site-packages (from torch>=1.10.0->effective-horizon==0.1.0) (3.1.2)\r\n",
      "Requirement already satisfied: fsspec in /home/cassidy/anaconda3/envs/effective_horizon/lib/python3.9/site-packages (from torch>=1.10.0->effective-horizon==0.1.0) (2023.9.2)\r\n",
      "Requirement already satisfied: nvidia-cuda-nvrtc-cu12==12.1.105 in /home/cassidy/anaconda3/envs/effective_horizon/lib/python3.9/site-packages (from torch>=1.10.0->effective-horizon==0.1.0) (12.1.105)\r\n",
      "Requirement already satisfied: nvidia-cuda-runtime-cu12==12.1.105 in /home/cassidy/anaconda3/envs/effective_horizon/lib/python3.9/site-packages (from torch>=1.10.0->effective-horizon==0.1.0) (12.1.105)\r\n",
      "Requirement already satisfied: nvidia-cuda-cupti-cu12==12.1.105 in /home/cassidy/anaconda3/envs/effective_horizon/lib/python3.9/site-packages (from torch>=1.10.0->effective-horizon==0.1.0) (12.1.105)\r\n",
      "Requirement already satisfied: nvidia-cudnn-cu12==8.9.2.26 in /home/cassidy/anaconda3/envs/effective_horizon/lib/python3.9/site-packages (from torch>=1.10.0->effective-horizon==0.1.0) (8.9.2.26)\r\n",
      "Requirement already satisfied: nvidia-cublas-cu12==12.1.3.1 in /home/cassidy/anaconda3/envs/effective_horizon/lib/python3.9/site-packages (from torch>=1.10.0->effective-horizon==0.1.0) (12.1.3.1)\r\n",
      "Requirement already satisfied: nvidia-cufft-cu12==11.0.2.54 in /home/cassidy/anaconda3/envs/effective_horizon/lib/python3.9/site-packages (from torch>=1.10.0->effective-horizon==0.1.0) (11.0.2.54)\r\n",
      "Requirement already satisfied: nvidia-curand-cu12==10.3.2.106 in /home/cassidy/anaconda3/envs/effective_horizon/lib/python3.9/site-packages (from torch>=1.10.0->effective-horizon==0.1.0) (10.3.2.106)\r\n",
      "Requirement already satisfied: nvidia-cusolver-cu12==11.4.5.107 in /home/cassidy/anaconda3/envs/effective_horizon/lib/python3.9/site-packages (from torch>=1.10.0->effective-horizon==0.1.0) (11.4.5.107)\r\n",
      "Requirement already satisfied: nvidia-cusparse-cu12==12.1.0.106 in /home/cassidy/anaconda3/envs/effective_horizon/lib/python3.9/site-packages (from torch>=1.10.0->effective-horizon==0.1.0) (12.1.0.106)\r\n",
      "Requirement already satisfied: nvidia-nccl-cu12==2.18.1 in /home/cassidy/anaconda3/envs/effective_horizon/lib/python3.9/site-packages (from torch>=1.10.0->effective-horizon==0.1.0) (2.18.1)\r\n",
      "Requirement already satisfied: nvidia-nvtx-cu12==12.1.105 in /home/cassidy/anaconda3/envs/effective_horizon/lib/python3.9/site-packages (from torch>=1.10.0->effective-horizon==0.1.0) (12.1.105)\r\n",
      "Requirement already satisfied: triton==2.1.0 in /home/cassidy/anaconda3/envs/effective_horizon/lib/python3.9/site-packages (from torch>=1.10.0->effective-horizon==0.1.0) (2.1.0)\r\n",
      "Requirement already satisfied: nvidia-nvjitlink-cu12 in /home/cassidy/anaconda3/envs/effective_horizon/lib/python3.9/site-packages (from nvidia-cusolver-cu12==11.4.5.107->torch>=1.10.0->effective-horizon==0.1.0) (12.2.140)\r\n",
      "Requirement already satisfied: pillow!=8.3.*,>=5.3.0 in /home/cassidy/anaconda3/envs/effective_horizon/lib/python3.9/site-packages (from torchvision>=0.11.1->effective-horizon==0.1.0) (10.0.1)\r\n",
      "Requirement already satisfied: cloudpickle>=1.2.0 in /home/cassidy/anaconda3/envs/effective_horizon/lib/python3.9/site-packages (from gymnasium[atari]->effective-horizon==0.1.0) (2.2.1)\r\n",
      "Requirement already satisfied: farama-notifications>=0.0.1 in /home/cassidy/anaconda3/envs/effective_horizon/lib/python3.9/site-packages (from gymnasium[atari]->effective-horizon==0.1.0) (0.0.4)\r\n",
      "Requirement already satisfied: importlib-metadata>=4.8.0 in /home/cassidy/anaconda3/envs/effective_horizon/lib/python3.9/site-packages (from gymnasium[atari]->effective-horizon==0.1.0) (6.8.0)\r\n",
      "Requirement already satisfied: shimmy<1.0,>=0.1.0 in /home/cassidy/anaconda3/envs/effective_horizon/lib/python3.9/site-packages (from shimmy[atari]<1.0,>=0.1.0; extra == \"atari\"->gymnasium[atari]->effective-horizon==0.1.0) (0.2.1)\r\n",
      "Requirement already satisfied: absl-py>=0.4 in /home/cassidy/anaconda3/envs/effective_horizon/lib/python3.9/site-packages (from tensorboard->effective-horizon==0.1.0) (2.0.0)\r\n",
      "Requirement already satisfied: grpcio>=1.48.2 in /home/cassidy/anaconda3/envs/effective_horizon/lib/python3.9/site-packages (from tensorboard->effective-horizon==0.1.0) (1.59.0)\r\n",
      "Requirement already satisfied: markdown>=2.6.8 in /home/cassidy/anaconda3/envs/effective_horizon/lib/python3.9/site-packages (from tensorboard->effective-horizon==0.1.0) (3.5.2)\r\n",
      "Requirement already satisfied: protobuf!=4.24.0,>=3.19.6 in /home/cassidy/anaconda3/envs/effective_horizon/lib/python3.9/site-packages (from tensorboard->effective-horizon==0.1.0) (4.24.4)\r\n",
      "Requirement already satisfied: setuptools>=41.0.0 in /home/cassidy/anaconda3/envs/effective_horizon/lib/python3.9/site-packages (from tensorboard->effective-horizon==0.1.0) (68.0.0)\r\n",
      "Requirement already satisfied: six>1.9 in /home/cassidy/anaconda3/envs/effective_horizon/lib/python3.9/site-packages (from tensorboard->effective-horizon==0.1.0) (1.16.0)\r\n",
      "Requirement already satisfied: tensorboard-data-server<0.8.0,>=0.7.0 in /home/cassidy/anaconda3/envs/effective_horizon/lib/python3.9/site-packages (from tensorboard->effective-horizon==0.1.0) (0.7.2)\r\n",
      "Requirement already satisfied: werkzeug>=1.0.1 in /home/cassidy/anaconda3/envs/effective_horizon/lib/python3.9/site-packages (from tensorboard->effective-horizon==0.1.0) (3.0.1)\r\n",
      "Requirement already satisfied: decorator in /home/cassidy/anaconda3/envs/effective_horizon/lib/python3.9/site-packages (from tensorflow-probability->effective-horizon==0.1.0) (5.1.1)\r\n",
      "Requirement already satisfied: gast>=0.3.2 in /home/cassidy/anaconda3/envs/effective_horizon/lib/python3.9/site-packages (from tensorflow-probability->effective-horizon==0.1.0) (0.5.4)\r\n",
      "Requirement already satisfied: dm-tree in /home/cassidy/anaconda3/envs/effective_horizon/lib/python3.9/site-packages (from tensorflow-probability->effective-horizon==0.1.0) (0.1.8)\r\n",
      "Requirement already satisfied: gym-notices>=0.0.4 in /home/cassidy/anaconda3/envs/effective_horizon/lib/python3.9/site-packages (from gym<1.0.0,>=0.15.0->procgen>=0.10.7->effective-horizon==0.1.0) (0.0.8)\r\n",
      "Requirement already satisfied: cffi<2.0.0,>=1.13.0 in /home/cassidy/anaconda3/envs/effective_horizon/lib/python3.9/site-packages (from gym3<1.0.0,>=0.3.3->procgen>=0.10.7->effective-horizon==0.1.0) (1.16.0)\r\n",
      "Requirement already satisfied: imageio<3.0.0,>=2.6.0 in /home/cassidy/anaconda3/envs/effective_horizon/lib/python3.9/site-packages (from gym3<1.0.0,>=0.3.3->procgen>=0.10.7->effective-horizon==0.1.0) (2.31.5)\r\n",
      "Requirement already satisfied: imageio-ffmpeg<0.4.0,>=0.3.0 in /home/cassidy/anaconda3/envs/effective_horizon/lib/python3.9/site-packages (from gym3<1.0.0,>=0.3.3->procgen>=0.10.7->effective-horizon==0.1.0) (0.3.0)\r\n",
      "Requirement already satisfied: glfw<2.0.0,>=1.8.6 in /home/cassidy/anaconda3/envs/effective_horizon/lib/python3.9/site-packages (from gym3<1.0.0,>=0.3.3->procgen>=0.10.7->effective-horizon==0.1.0) (1.12.0)\r\n",
      "Requirement already satisfied: moderngl<6.0.0,>=5.5.4 in /home/cassidy/anaconda3/envs/effective_horizon/lib/python3.9/site-packages (from gym3<1.0.0,>=0.3.3->procgen>=0.10.7->effective-horizon==0.1.0) (5.8.2)\r\n",
      "Requirement already satisfied: zipp>=0.5 in /home/cassidy/anaconda3/envs/effective_horizon/lib/python3.9/site-packages (from importlib-metadata>=4.8.0->gymnasium[atari]->effective-horizon==0.1.0) (3.17.0)\r\n",
      "Requirement already satisfied: ale-py~=0.8.1 in /home/cassidy/anaconda3/envs/effective_horizon/lib/python3.9/site-packages (from shimmy[atari]<1.0,>=0.1.0; extra == \"atari\"->gymnasium[atari]->effective-horizon==0.1.0) (0.8.1)\r\n",
      "Requirement already satisfied: MarkupSafe>=2.1.1 in /home/cassidy/anaconda3/envs/effective_horizon/lib/python3.9/site-packages (from werkzeug>=1.0.1->tensorboard->effective-horizon==0.1.0) (2.1.3)\r\n",
      "Requirement already satisfied: gitdb<5,>=4.0.1 in /home/cassidy/anaconda3/envs/effective_horizon/lib/python3.9/site-packages (from GitPython->sacred>=0.8.2->effective-horizon==0.1.0) (4.0.10)\r\n",
      "Requirement already satisfied: charset-normalizer<4,>=2 in /home/cassidy/anaconda3/envs/effective_horizon/lib/python3.9/site-packages (from requests->autorom>=0.4.2->autorom[accept-rom-license]>=0.4.2->effective-horizon==0.1.0) (3.3.0)\r\n",
      "Requirement already satisfied: idna<4,>=2.5 in /home/cassidy/anaconda3/envs/effective_horizon/lib/python3.9/site-packages (from requests->autorom>=0.4.2->autorom[accept-rom-license]>=0.4.2->effective-horizon==0.1.0) (3.4)\r\n",
      "Requirement already satisfied: urllib3<3,>=1.21.1 in /home/cassidy/anaconda3/envs/effective_horizon/lib/python3.9/site-packages (from requests->autorom>=0.4.2->autorom[accept-rom-license]>=0.4.2->effective-horizon==0.1.0) (2.0.6)\r\n",
      "Requirement already satisfied: certifi>=2017.4.17 in /home/cassidy/anaconda3/envs/effective_horizon/lib/python3.9/site-packages (from requests->autorom>=0.4.2->autorom[accept-rom-license]>=0.4.2->effective-horizon==0.1.0) (2023.7.22)\r\n",
      "Requirement already satisfied: mpmath>=0.19 in /home/cassidy/anaconda3/envs/effective_horizon/lib/python3.9/site-packages (from sympy->torch>=1.10.0->effective-horizon==0.1.0) (1.3.0)\r\n",
      "Requirement already satisfied: importlib-resources in /home/cassidy/anaconda3/envs/effective_horizon/lib/python3.9/site-packages (from ale-py~=0.8.1->shimmy[atari]<1.0,>=0.1.0; extra == \"atari\"->gymnasium[atari]->effective-horizon==0.1.0) (6.1.0)\r\n",
      "Requirement already satisfied: pycparser in /home/cassidy/anaconda3/envs/effective_horizon/lib/python3.9/site-packages (from cffi<2.0.0,>=1.13.0->gym3<1.0.0,>=0.3.3->procgen>=0.10.7->effective-horizon==0.1.0) (2.21)\r\n",
      "Requirement already satisfied: smmap<6,>=3.0.1 in /home/cassidy/anaconda3/envs/effective_horizon/lib/python3.9/site-packages (from gitdb<5,>=4.0.1->GitPython->sacred>=0.8.2->effective-horizon==0.1.0) (5.0.1)\r\n",
      "Requirement already satisfied: glcontext<3,>=2.3.6 in /home/cassidy/anaconda3/envs/effective_horizon/lib/python3.9/site-packages (from moderngl<6.0.0,>=5.5.4->gym3<1.0.0,>=0.3.3->procgen>=0.10.7->effective-horizon==0.1.0) (2.4.0)\r\n",
      "Building wheels for collected packages: effective-horizon\r\n",
      "  Building editable for effective-horizon (pyproject.toml) ... \u001b[?25l-\b \bdone\r\n",
      "\u001b[?25h  Created wheel for effective-horizon: filename=effective_horizon-0.1.0-0.editable-py3-none-any.whl size=8584 sha256=4fabfcc6351b56a7b31c00dbde8b0290571ef2fc65de52b12eb6a852ed97c303\r\n",
      "  Stored in directory: /tmp/pip-ephem-wheel-cache-37o4_8oj/wheels/41/59/be/6f885a1d514659d5ee63e55292b47bd8503f7ed6bc71c33d69\r\n",
      "Successfully built effective-horizon\r\n",
      "Installing collected packages: effective-horizon\r\n",
      "  Attempting uninstall: effective-horizon\r\n",
      "    Found existing installation: effective-horizon 0.1.0\r\n",
      "    Uninstalling effective-horizon-0.1.0:\r\n",
      "      Successfully uninstalled effective-horizon-0.1.0\r\n",
      "Successfully installed effective-horizon-0.1.0\r\n",
      "Requirement already satisfied: requests in /home/cassidy/anaconda3/envs/effective_horizon/lib/python3.9/site-packages (2.31.0)\r\n",
      "Requirement already satisfied: matplotlib in /home/cassidy/anaconda3/envs/effective_horizon/lib/python3.9/site-packages (3.8.0)\r\n",
      "Requirement already satisfied: charset-normalizer<4,>=2 in /home/cassidy/anaconda3/envs/effective_horizon/lib/python3.9/site-packages (from requests) (3.3.0)\r\n",
      "Requirement already satisfied: idna<4,>=2.5 in /home/cassidy/anaconda3/envs/effective_horizon/lib/python3.9/site-packages (from requests) (3.4)\r\n",
      "Requirement already satisfied: urllib3<3,>=1.21.1 in /home/cassidy/anaconda3/envs/effective_horizon/lib/python3.9/site-packages (from requests) (2.0.6)\r\n",
      "Requirement already satisfied: certifi>=2017.4.17 in /home/cassidy/anaconda3/envs/effective_horizon/lib/python3.9/site-packages (from requests) (2023.7.22)\r\n",
      "Requirement already satisfied: contourpy>=1.0.1 in /home/cassidy/anaconda3/envs/effective_horizon/lib/python3.9/site-packages (from matplotlib) (1.1.1)\r\n",
      "Requirement already satisfied: cycler>=0.10 in /home/cassidy/anaconda3/envs/effective_horizon/lib/python3.9/site-packages (from matplotlib) (0.12.1)\r\n",
      "Requirement already satisfied: fonttools>=4.22.0 in /home/cassidy/anaconda3/envs/effective_horizon/lib/python3.9/site-packages (from matplotlib) (4.43.1)\r\n",
      "Requirement already satisfied: kiwisolver>=1.0.1 in /home/cassidy/anaconda3/envs/effective_horizon/lib/python3.9/site-packages (from matplotlib) (1.4.5)\r\n",
      "Requirement already satisfied: numpy<2,>=1.21 in /home/cassidy/anaconda3/envs/effective_horizon/lib/python3.9/site-packages (from matplotlib) (1.26.0)\r\n",
      "Requirement already satisfied: packaging>=20.0 in /home/cassidy/anaconda3/envs/effective_horizon/lib/python3.9/site-packages (from matplotlib) (23.2)\r\n",
      "Requirement already satisfied: pillow>=6.2.0 in /home/cassidy/anaconda3/envs/effective_horizon/lib/python3.9/site-packages (from matplotlib) (10.0.1)\r\n",
      "Requirement already satisfied: pyparsing>=2.3.1 in /home/cassidy/anaconda3/envs/effective_horizon/lib/python3.9/site-packages (from matplotlib) (3.1.1)\r\n",
      "Requirement already satisfied: python-dateutil>=2.7 in /home/cassidy/anaconda3/envs/effective_horizon/lib/python3.9/site-packages (from matplotlib) (2.8.2)\r\n",
      "Requirement already satisfied: importlib-resources>=3.2.0 in /home/cassidy/anaconda3/envs/effective_horizon/lib/python3.9/site-packages (from matplotlib) (6.1.0)\r\n",
      "Requirement already satisfied: zipp>=3.1.0 in /home/cassidy/anaconda3/envs/effective_horizon/lib/python3.9/site-packages (from importlib-resources>=3.2.0->matplotlib) (3.17.0)\r\n",
      "Requirement already satisfied: six>=1.5 in /home/cassidy/anaconda3/envs/effective_horizon/lib/python3.9/site-packages (from python-dateutil>=2.7->matplotlib) (1.16.0)\r\n"
     ]
    }
   ],
   "source": [
    "import os\n",
    "import warnings\n",
    "\n",
    "if os.path.exists(\"pyproject.toml\"):\n",
    "    !pip install -e .\n",
    "else:\n",
    "    !pip install effective-horizon\n",
    "\n",
    "!pip install requests matplotlib\n",
    "\n",
    "warnings.warn = lambda *args,**kwargs: None"
   ]
  },
  {
   "cell_type": "markdown",
   "metadata": {},
   "source": [
    "First, let's load a tabular version of an MDP. The repository includes a few small MDPs, but the rest are included in the [full BRIDGE dataset](https://zenodo.org/records/10966777). The `load_mdp` function will load transitions and rewards matrices."
   ]
  },
  {
   "cell_type": "code",
   "execution_count": 2,
   "metadata": {},
   "outputs": [
    {
     "data": {
      "text/plain": [
       "((169, 6), (169, 6), array([ 82, 156,   0,   0,   0,   0]))"
      ]
     },
     "execution_count": 2,
     "metadata": {},
     "output_type": "execute_result"
    }
   ],
   "source": [
    "from effective_horizon.mdp_utils import load_mdp\n",
    "\n",
    "from io import BytesIO\n",
    "import requests\n",
    "\n",
    "mdp_file = \"data/mdps/MiniGrid-KeyCorridorS3R1-v0/consolidated.npz\"\n",
    "if not os.path.exists(mdp_file):\n",
    "    response = requests.get(\"https://github.com/cassidylaidlaw/effective-horizon/raw/main/data/mdps/MiniGrid-KeyCorridorS3R1-v0/consolidated.npz\", stream=True)\n",
    "    mdp_file = BytesIO(response.raw.read())\n",
    "\n",
    "transitions, rewards = load_mdp(mdp_file)\n",
    "transitions.shape, rewards.shape, transitions[0]"
   ]
  },
  {
   "cell_type": "markdown",
   "metadata": {},
   "source": [
    "Both the `transitions` and `rewards` matrices are of size `(num_states, num_actions)`. As we can see, this MDP has 158 states (157 non-terminal states plus the terminal state) and 6 actions. `transitions[0]` gives the states that are reached by taking each action in the initial state, which is always at index 0.\n",
    "\n",
    "Now, let's use value iteration to determine an optimal policy for this MDP."
   ]
  },
  {
   "cell_type": "code",
   "execution_count": 3,
   "metadata": {
    "nbreg": {
     "diff_ignore": [
      "/outputs/1/text"
     ]
    }
   },
   "outputs": [
    {
     "name": "stdout",
     "output_type": "stream",
     "text": [
      "(100, 169)\n"
     ]
    },
    {
     "name": "stderr",
     "output_type": "stream",
     "text": [
      "Value iteration: 100%|██████████| 100/100 [00:00<00:00, 5006.69it/s]\n"
     ]
    },
    {
     "data": {
      "text/plain": [
       "(1.0, 1.0)"
      ]
     },
     "execution_count": 3,
     "metadata": {},
     "output_type": "execute_result"
    }
   ],
   "source": [
    "from effective_horizon.mdp_utils import get_sparse_mdp, run_value_iteration\n",
    "\n",
    "import numpy as np\n",
    "\n",
    "sparse_transitions, rewards_vector = get_sparse_mdp(transitions, rewards)\n",
    "vi_results = run_value_iteration(sparse_transitions, rewards_vector, horizon=100)\n",
    "\n",
    "optimal_policy = np.argmax(vi_results.optimal_qs, axis=2)\n",
    "print(optimal_policy.shape)\n",
    "\n",
    "total_reward = 0\n",
    "optimal_actions = []\n",
    "state = 0\n",
    "for t in range(100):\n",
    "    action = optimal_policy[t, state]\n",
    "    optimal_actions.append(action)\n",
    "    reward = rewards[state, action]\n",
    "    total_reward += reward\n",
    "    state = transitions[state, action]\n",
    "total_reward, vi_results.optimal_values[0, 0]"
   ]
  },
  {
   "cell_type": "markdown",
   "metadata": {},
   "source": [
    "`run_value_iteration` returns the optimal Q and value functions as well as the random policy's Q and value functions (which can be accessed by `vi_results.random_qs`). By taking the arg-max of the optimal Q function, we can get an optimal policy. Running this optimal policy in the environment gives reward equal to the optimal value at the initial state.\n",
    "\n",
    "We can also access the same environment through the [Gymnasium](https://gymnasium.farama.org/) API:"
   ]
  },
  {
   "cell_type": "code",
   "execution_count": 4,
   "metadata": {},
   "outputs": [
    {
     "name": "stdout",
     "output_type": "stream",
     "text": [
      "1.0\n"
     ]
    }
   ],
   "source": [
    "import effective_horizon\n",
    "import gymnasium as gym\n",
    "\n",
    "env = gym.make(\"BRIDGE/MiniGrid-KeyCorridorS3R1-v0\")\n",
    "obs, info = env.reset()\n",
    "\n",
    "total_reward = 0\n",
    "for t in range(100):\n",
    "    action = optimal_actions[t]\n",
    "    obs, reward, terminated, truncated, info = env.step(action)\n",
    "    total_reward += reward\n",
    "    if terminated:\n",
    "        break\n",
    "\n",
    "print(total_reward)"
   ]
  },
  {
   "cell_type": "markdown",
   "metadata": {},
   "source": [
    "The tabular and Gymnasium versions of the environments are identical, as shown by the fact that the optimal policy calculated from the tabular version also achieves optimal return in the Gymnasium environment. The Gymnasium environments can be used to run deep RL algorithms and compare their results to properties computed from the tabular versions!\n",
    "\n",
    "For visualization purposes, it's also possible to view what the screen observation looks like for a particular state in the tabular MDP. For example, let's find which state has the lowest non-zero value under the random policy:"
   ]
  },
  {
   "cell_type": "code",
   "execution_count": 5,
   "metadata": {
    "nbreg": {
     "diff_ignore": [
      "/outputs/1/data/text/plain",
      "/outputs/2/data/image/png"
     ]
    }
   },
   "outputs": [
    {
     "name": "stdout",
     "output_type": "stream",
     "text": [
      "84 39 5.671526e-12\n"
     ]
    },
    {
     "data": {
      "text/plain": [
       "<matplotlib.image.AxesImage at 0x78f585863520>"
      ]
     },
     "execution_count": 5,
     "metadata": {},
     "output_type": "execute_result"
    },
    {
     "data": {
      "image/png": "[encoded data removed]",
      "text/plain": [
       "<Figure size 640x480 with 1 Axes>"
      ]
     },
     "metadata": {},
     "output_type": "display_data"
    }
   ],
   "source": [
    "import numpy as np\n",
    "import matplotlib.pyplot as plt\n",
    "\n",
    "t, state = np.unravel_index(\n",
    "    np.argmin(np.where(vi_results.random_values > 0, vi_results.random_values, np.inf)),\n",
    "    vi_results.random_values.shape,\n",
    ")\n",
    "print(t, state, vi_results.random_values[t, state])\n",
    "\n",
    "mdp = np.load(mdp_file)\n",
    "plt.imshow(mdp[\"screens\"][mdp[\"screen_mapping\"][state]])"
   ]
  },
  {
   "cell_type": "markdown",
   "metadata": {},
   "source": [
    "At this state on the 85th timestep, there is less than a $10^{-11}$ chance of getting the optimal reward!\n",
    "\n",
    "We can even load the state of the MDP from the tabular version into the Gym environment:"
   ]
  },
  {
   "cell_type": "code",
   "execution_count": 6,
   "metadata": {
    "nbreg": {
     "diff_ignore": [
      "/outputs/0/data/text/plain",
      "/outputs/1/data/image/png"
     ]
    }
   },
   "outputs": [
    {
     "data": {
      "text/plain": [
       "<matplotlib.image.AxesImage at 0x78f5857da6a0>"
      ]
     },
     "execution_count": 6,
     "metadata": {},
     "output_type": "execute_result"
    },
    {
     "data": {
      "image/png": "[encoded data removed]",
      "text/plain": [
       "<Figure size 640x480 with 1 Axes>"
      ]
     },
     "metadata": {},
     "output_type": "display_data"
    }
   ],
   "source": [
    "state_bytes = mdp[\"states\"][state, :mdp[\"state_lengths\"][state]].tobytes()\n",
    "env.unwrapped.render_mode = \"rgb_array\"\n",
    "env.set_state(state_bytes)\n",
    "plt.imshow(env.render())"
   ]
  },
  {
   "cell_type": "markdown",
   "metadata": {},
   "source": [
    "As we can see, we get the same image as in the tabular version.\n",
    "\n",
    "That's it for this quick introduction to the BRIDGE dataset! While all the tabular environments in the dataset have transition and reward matrices, only the smaller ones have screen images and states, since they would be prohibitively large for environments with many states."
   ]
  }
 ],
 "metadata": {
  "kernelspec": {
   "display_name": "effective_horizon",
   "language": "python",
   "name": "python3"
  },
  "language_info": {
   "codemirror_mode": {
    "name": "ipython",
    "version": 3
   },
   "file_extension": ".py",
   "mimetype": "text/x-python",
   "name": "python",
   "nbconvert_exporter": "python",
   "pygments_lexer": "ipython3",
   "version": "3.9.18"
  }
 },
 "nbformat": 4,
 "nbformat_minor": 2
}
